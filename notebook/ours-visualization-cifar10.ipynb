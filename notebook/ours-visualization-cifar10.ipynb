{
 "cells": [
  {
   "cell_type": "markdown",
   "metadata": {},
   "source": [
    "### Packages"
   ]
  },
  {
   "cell_type": "code",
   "execution_count": 1,
   "metadata": {},
   "outputs": [
    {
     "name": "stdout",
     "output_type": "stream",
     "text": [
      "/scratch/ssd001/home/ama/workspace/ama-at-vector/best-mix\n"
     ]
    }
   ],
   "source": [
    "cd '/h/ama/workspace/ama-at-vector/best-mix'"
   ]
  },
  {
   "cell_type": "code",
   "execution_count": 2,
   "metadata": {},
   "outputs": [],
   "source": [
    "%load_ext autoreload\n",
    "%autoreload 2"
   ]
  },
  {
   "cell_type": "code",
   "execution_count": 3,
   "metadata": {},
   "outputs": [],
   "source": [
    "import os\n",
    "import numpy as np\n",
    "import torch\n",
    "import torch.nn as nn\n",
    "import torch.nn.functional as F\n",
    "from torch.utils.data import Dataset, DataLoader\n",
    "import torchvision\n",
    "import torchvision.datasets as datasets\n",
    "import torchvision.transforms as transforms\n",
    "import matplotlib.pyplot as plt\n",
    "import math\n",
    "import pickle\n",
    "\n",
    "from mixup import mixup_graph\n",
    "\n",
    "os.environ['KMP_DUPLICATE_LIB_OK']='True'\n",
    "%matplotlib inline"
   ]
  },
  {
   "cell_type": "code",
   "execution_count": 4,
   "metadata": {},
   "outputs": [],
   "source": [
    "def print_fig(input, target=None, title=None, save_dir=None):\n",
    "    fig, axes = plt.subplots(1,len(input),figsize=(3*len(input),3))\n",
    "    if title:\n",
    "        fig.suptitle(title, size=16)\n",
    "    if len(input) == 1 :\n",
    "        axes = [axes]\n",
    "        \n",
    "    for i, ax in enumerate(axes):\n",
    "        if len(input.shape) == 4:\n",
    "            ax.imshow(input[i].permute(1,2,0).numpy())\n",
    "        else :\n",
    "            ax.imshow(input[i].numpy(), cmap='gray', vmin=0., vmax=1.)\n",
    "        \n",
    "        if target is not None:\n",
    "            output = net((input[i].unsqueeze(0) - mean)/std)\n",
    "            loss = criterion(output, target[i:i+1])\n",
    "            ax.set_title(\"loss: {:.3f}\\n pred: {}\\n true : {}\".format(loss, CIFAR100_LABELS_LIST[output.max(1)[1][0]], CIFAR100_LABELS_LIST[target[i]]))\n",
    "        ax.axis('off')\n",
    "    plt.subplots_adjust(wspace = 0.1)\n",
    "    \n",
    "    if save_dir is not None:\n",
    "        plt.savefig(save_dir, bbox_inches = 'tight',  pad_inches = 0)\n",
    "        \n",
    "    plt.show()"
   ]
  },
  {
   "cell_type": "markdown",
   "metadata": {},
   "source": [
    "### Model, Data, Saliency"
   ]
  },
  {
   "cell_type": "code",
   "execution_count": 5,
   "metadata": {},
   "outputs": [
    {
     "name": "stdout",
     "output_type": "stream",
     "text": [
      "Files already downloaded and verified\n",
      "Files already downloaded and verified\n"
     ]
    }
   ],
   "source": [
    "''' Model '''\n",
    "import models\n",
    "# import torchvision.models as models\n",
    "from load_data import load_data_subset\n",
    "from collections import OrderedDict\n",
    "\n",
    "\n",
    "resnet = models.__dict__['preactresnet18'](10, False, 1).cuda()\n",
    "\n",
    "# checkpoint = torch.load('/group-volume/Multimodal-Learning/ssl/vse_files/runs/fast_autoaugment/models/cifar10_preact_ckpt/vanilla.pth.tar')\n",
    "checkpoint = torch.load('checkpoint/cifar10_preact_ckpt_vanilla.pth.tar')\n",
    "\n",
    "od = OrderedDict()\n",
    "for key in checkpoint['state_dict'].keys():\n",
    "    od[key[7:]] = checkpoint['state_dict'][key]\n",
    "resnet.load_state_dict(od)\n",
    "\n",
    "# resnet = models.resnet18(pretrained=True)\n",
    "\n",
    "\n",
    "# resnet.load_state_dict(checkpoint['state_dict'])\n",
    "# mean = torch.tensor([x / 255 for x in [125.3, 123.0, 113.9]],dtype=torch.float32).reshape(1, 3, 1, 1).cuda()\n",
    "# std = torch.tensor([x / 255 for x in [63.0, 62.1, 66.7]], dtype=torch.float32).reshape(1, 3, 1, 1).cuda()\n",
    "labels_per_class = 5000\n",
    "mean = torch.tensor([125.3, 123.0, 113.9])/255\n",
    "std = torch.tensor([63.0, 62.1, 66.7])/255\n",
    "mean_torch = mean.unsqueeze(0).unsqueeze(-1).unsqueeze(-1)\n",
    "std_torch = std.unsqueeze(0).unsqueeze(-1).unsqueeze(-1)\n",
    "\n",
    "criterion = nn.CrossEntropyLoss()\n",
    "\n",
    "\n",
    "batch_size = 100\n",
    "workers=2\n",
    "dataset='cifar10'\n",
    "# data_dir='/group-volume/Multimodal-Learning/ssl/vse_files/runs/fast_autoaugment/data'\n",
    "data_dir='data'\n",
    "valid_labels_per_class=0\n",
    "mixup_alpha=0\n",
    "train_loader, valid_loader, _, test_loader, num_classes = load_data_subset(batch_size,workers,dataset,data_dir,labels_per_class=labels_per_class,valid_labels_per_class=valid_labels_per_class,mixup_alpha=mixup_alpha)"
   ]
  },
  {
   "cell_type": "code",
   "execution_count": 6,
   "metadata": {},
   "outputs": [
    {
     "data": {
      "image/png": "[encoded data removed]",
      "text/plain": [
       "<Figure size 1080x216 with 5 Axes>"
      ]
     },
     "metadata": {
      "needs_background": "light"
     },
     "output_type": "display_data"
    }
   ],
   "source": [
    "''' Data '''\n",
    "\n",
    "sample_num=5\n",
    "for x,y in test_loader:\n",
    "    input_sp,targets = x[:sample_num,:],y[:sample_num]\n",
    "    break\n",
    "    \n",
    "print_fig((input_sp * std_torch + mean_torch)[:sample_num])"
   ]
  },
  {
   "cell_type": "code",
   "execution_count": 14,
   "metadata": {},
   "outputs": [],
   "source": [
    "''' Saliency '''\n",
    "resnet.cpu()\n",
    "resnet.train()\n",
    "input_var = input_sp[:sample_num].clone().detach().requires_grad_(True)\n",
    "output = resnet(input_var)\n",
    "loss = criterion(output, targets[:sample_num])\n",
    "loss.backward()\n",
    "\n",
    "blurr = torchvision.transforms.GaussianBlur(5, sigma=(3.0, 3.0))\n",
    "grad = input_var.grad.detach().abs().mean(dim=1).squeeze()\n",
    "normalized_grad = grad/grad.sum(dim=[1,2],keepdim=True).detach()\n",
    "\n",
    "# grad_copy = grad.clone()\n",
    "# grad_copy = blurr(grad_copy).squeeze()\n",
    "# grad_min = grad_copy.amin(dim=[1,2],keepdim=True).detach()\n",
    "# grad_copy -= grad_min\n",
    "# grad_max = grad_copy.amax(dim=[1,2],keepdim=True).detach()\n",
    "# grad_copy /=grad_max\n",
    "\n",
    "# # grad_copy = blurr(grad_copy).squeeze()\n",
    "\n",
    "# print_fig(grad/grad.amax(dim=[1,2],keepdim=True).detach())\n",
    "# print_fig(grad_copy)\n",
    "\n",
    "# T = 0.0001\n",
    "# flatten_grad = torch.flatten(grad, start_dim=1, end_dim=- 1)\n",
    "# softmax_grad = torch.nn.Softmax(dim=1)(flatten_grad/T)\n",
    "# unflatten_grad = torch.nn.Unflatten(1,(32,32))(softmax_grad)\n",
    "\n",
    "# print_fig(grad)\n",
    "# print_fig(normalized_grad*100)\n"
   ]
  },
  {
   "cell_type": "markdown",
   "metadata": {},
   "source": [
    "### Ours"
   ]
  },
  {
   "cell_type": "code",
   "execution_count": null,
   "metadata": {},
   "outputs": [],
   "source": [
    "from utils_mixup import gradmix_v2_improved_v4_1\n",
    "\n",
    "for _alpha in np.linspace(0,1,11):\n",
    "    print(_alpha)\n",
    "    _sigma = 1.0\n",
    "#     _alpha = 0.7\n",
    "    blurr = torchvision.transforms.GaussianBlur(5, sigma=(_sigma, _sigma))\n",
    "\n",
    "    grad = blurr(input_var.grad.detach().abs().mean(dim=1)).squeeze()\n",
    "\n",
    "    mixed_x, mixed_y, mixed_lam = gradmix_v2_improved_v4_1(input_sp.cuda(), targets.cuda(), grad.unsqueeze(1).cuda(), alpha = _alpha, normalization = 'standard', debug=True, rand_pos = 1)\n",
    "    print(mixed_lam[0])\n",
    "    print_fig(mixed_x.cpu() * std_torch + mean_torch)"
   ]
  },
  {
   "cell_type": "code",
   "execution_count": null,
   "metadata": {},
   "outputs": [],
   "source": []
  }
 ],
 "metadata": {
  "kernelspec": {
   "display_name": "new-env",
   "language": "python",
   "name": "new-env"
  },
  "language_info": {
   "codemirror_mode": {
    "name": "ipython",
    "version": 3
   },
   "file_extension": ".py",
   "mimetype": "text/x-python",
   "name": "python",
   "nbconvert_exporter": "python",
   "pygments_lexer": "ipython3",
   "version": "3.9.7"
  }
 },
 "nbformat": 4,
 "nbformat_minor": 4
}
